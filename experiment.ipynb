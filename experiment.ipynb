{
 "cells": [
  {
   "cell_type": "code",
   "execution_count": 1,
   "id": "b348174e-5ebf-4469-b777-5fe07eb2d4ea",
   "metadata": {},
   "outputs": [],
   "source": [
    "# check if two chess games played by bestbot are identical\n",
    "from src.chessGame.autochess import AutoChess\n",
    "from datetime import datetime\n",
    "from statistics import mean"
   ]
  },
  {
   "cell_type": "code",
   "execution_count": 22,
   "id": "441b26eb-ebca-44dc-9785-ef5a6f154530",
   "metadata": {},
   "outputs": [
    {
     "name": "stdout",
     "output_type": "stream",
     "text": [
      "Playing bot 1\n",
      "Game over: 50 move rule\n",
      "21.097655\n",
      "Playing bot 2\n",
      "Game over: 50 move rule\n",
      "21.006699\n",
      "Playing bot 3\n",
      "Game over: 50 move rule\n",
      "20.978603\n",
      "Playing bot 4\n",
      "Game over: 50 move rule\n",
      "20.984773\n",
      "Playing bot 5\n",
      "Game over: 50 move rule\n",
      "20.976962\n",
      "Playing bot 6\n",
      "Game over: 50 move rule\n",
      "21.087666\n",
      "Playing bot 7\n",
      "Game over: 50 move rule\n",
      "21.03037\n",
      "Playing bot 8\n",
      "Game over: 50 move rule\n",
      "20.999206\n",
      "Playing bot 9\n",
      "Game over: 50 move rule\n",
      "20.960147\n",
      "Playing bot 10\n",
      "Game over: 50 move rule\n",
      "21.142241\n",
      "Avg runtime: 21.0264322\n"
     ]
    }
   ],
   "source": [
    "params = {\n",
    "    'testing': True\n",
    "}\n",
    "test_bots = [AutoChess(params=params) for _ in range(10)]\n",
    "times = []\n",
    "\n",
    "for count, bot in enumerate(test_bots):\n",
    "    print(f\"Playing bot {count+1}\")\n",
    "    s = datetime.now()\n",
    "    bot.loop()\n",
    "    e = datetime.now()\n",
    "    runtime = e-s\n",
    "    print(runtime.total_seconds())\n",
    "    times.append(runtime.total_seconds())\n",
    "\n",
    "print(f\"Avg runtime: {mean(times)}\")"
   ]
  },
  {
   "cell_type": "code",
   "execution_count": 11,
   "id": "66ef02c5-7721-4835-95b2-7c1a5f2ef184",
   "metadata": {},
   "outputs": [
    {
     "name": "stdout",
     "output_type": "stream",
     "text": [
      "True\n",
      "True\n",
      "True\n",
      "True\n",
      "True\n",
      "True\n",
      "True\n",
      "True\n",
      "True\n",
      "True\n"
     ]
    }
   ],
   "source": [
    "base_game = test_bots[0]\n",
    "base_game.board.move_stack\n",
    "\n",
    "for count, game in enumerate(test_bots):\n",
    "    if count == 0:\n",
    "        pass\n",
    "    print(game.board.move_stack == base_game.board.move_stack)\n",
    "    \n",
    "# all games from best bot are exactly the same\n",
    "# useful for testing, not useful for learning/training"
   ]
  },
  {
   "cell_type": "code",
   "execution_count": null,
   "id": "b4f61f1d-7fca-4fcb-916d-6477430f9b06",
   "metadata": {},
   "outputs": [],
   "source": []
  }
 ],
 "metadata": {
  "kernelspec": {
   "display_name": "Python 3 (ipykernel)",
   "language": "python",
   "name": "python3"
  },
  "language_info": {
   "codemirror_mode": {
    "name": "ipython",
    "version": 3
   },
   "file_extension": ".py",
   "mimetype": "text/x-python",
   "name": "python",
   "nbconvert_exporter": "python",
   "pygments_lexer": "ipython3",
   "version": "3.11.6"
  }
 },
 "nbformat": 4,
 "nbformat_minor": 5
}
